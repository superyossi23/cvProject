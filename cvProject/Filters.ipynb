{
 "cells": [
  {
   "cell_type": "markdown",
   "metadata": {},
   "source": [
    "### SETTINGS"
   ]
  },
  {
   "cell_type": "code",
   "execution_count": 72,
   "metadata": {},
   "outputs": [
    {
     "data": {
      "text/plain": [
       "<Figure size 640x480 with 0 Axes>"
      ]
     },
     "metadata": {},
     "output_type": "display_data"
    }
   ],
   "source": [
    "import numpy as np\n",
    "import matplotlib.pyplot as plt\n",
    "%matplotlib inline\n",
    "plt.gray();\n",
    "\n",
    "import skimage\n",
    "from skimage.io import imread, imsave\n",
    "from skimage.transform import rotate, resize, AffineTransform, warp\n",
    "from skimage.filters import gaussian, threshold_otsu, threshold_local\n",
    "from skimage.feature import blob_dog, corner_fast, corner_peaks, corner_harris\n",
    "from skimage.color import rgb2gray\n",
    "\n",
    "from scipy import ndimage\n",
    "\n",
    "from ipywidgets import interact, interactive, fixed, RadioButtons\n",
    "import ipywidgets as wigets\n",
    "from IPython.display import display"
   ]
  },
  {
   "cell_type": "code",
   "execution_count": 65,
   "metadata": {},
   "outputs": [],
   "source": [
    "im = imread(r\"C:\\Users\\A\\Desktop\\pythonProject\\opencvProject\\resources\\images\\01.jpg\")\n",
    "gray = rgb2gray(im)  # gray"
   ]
  },
  {
   "cell_type": "markdown",
   "metadata": {},
   "source": [
    "### 二値化"
   ]
  },
  {
   "cell_type": "code",
   "execution_count": 29,
   "metadata": {},
   "outputs": [
    {
     "data": {
      "application/vnd.jupyter.widget-view+json": {
       "model_id": "2f8a180787aa4994a2b21c8e28e8a2d9",
       "version_major": 2,
       "version_minor": 0
      },
      "text/plain": [
       "interactive(children=(IntSlider(value=51, description='block_size', max=500, min=1, step=10), Output()), _dom_…"
      ]
     },
     "metadata": {},
     "output_type": "display_data"
    }
   ],
   "source": [
    "@interact(block_size=(1, 500, 10))\n",
    "def g(block_size=51):\n",
    "    fig = plt.figure(figsize=(15, 5))\n",
    "\n",
    "    ax = fig.add_subplot(1, 3, 1)\n",
    "    plt.imshow(gray)\n",
    "\n",
    "    # Otsu th\n",
    "    ax = fig.add_subplot(1, 3, 2)\n",
    "    global_th = threshold_otsu(gray)\n",
    "    binary_global = gray > global_th\n",
    "    plt.imshow(binary_global)\n",
    "\n",
    "    # adaptive thresholding\n",
    "    ax = fig.add_subplot(1, 3, 3)\n",
    "    adaptive_th = threshold_local(gray, block_size)\n",
    "    binary_adaptive = gray > adaptive_th\n",
    "    plt.imshow(binary_adaptive)\n",
    "\n"
   ]
  },
  {
   "cell_type": "markdown",
   "metadata": {},
   "source": [
    "### 幾何変換"
   ]
  },
  {
   "cell_type": "markdown",
   "metadata": {},
   "source": [
    "#### Affine Transform"
   ]
  },
  {
   "cell_type": "code",
   "execution_count": 12,
   "metadata": {},
   "outputs": [
    {
     "data": {
      "application/vnd.jupyter.widget-view+json": {
       "model_id": "59b94c0a56fa48159d54cd917e5531fc",
       "version_major": 2,
       "version_minor": 0
      },
      "text/plain": [
       "interactive(children=(IntSlider(value=0, description='angle', max=180, min=-180, step=10), Output()), _dom_cla…"
      ]
     },
     "metadata": {},
     "output_type": "display_data"
    }
   ],
   "source": [
    "@interact(angle=(-180, 180, 10))\n",
    "def g(angle=0):\n",
    "    fig = plt.figure(figsize=(15,3))\n",
    "    fig.add_subplot(1, 3, 1)\n",
    "    im_rot = rotate(im, angle=angle, resize=False)\n",
    "    plt.imshow(im_rot)\n",
    "\n",
    "    fig.add_subplot(1, 3, 2)\n",
    "    im_rot = rotate(im, angle=angle, resize=True)\n",
    "    plt.imshow(im_rot)\n",
    "\n",
    "    fig.add_subplot(1, 3, 3)\n",
    "    angle = np.deg2rad(angle)\n",
    "    A = np.array([[np.cos(angle), -np.sin(angle), 0],\n",
    "                  [np.sin(angle), np.cos(angle), 0],\n",
    "                  [0, 0, 1]])\n",
    "    plt.imshow(warp(im, AffineTransform(A)))\n",
    "\n",
    "    plt.show()\n"
   ]
  },
  {
   "cell_type": "markdown",
   "metadata": {},
   "source": [
    "### Filters"
   ]
  },
  {
   "cell_type": "markdown",
   "metadata": {},
   "source": [
    "#### Sobel, Prewitt"
   ]
  },
  {
   "cell_type": "code",
   "execution_count": 31,
   "metadata": {},
   "outputs": [
    {
     "data": {
      "application/vnd.jupyter.widget-view+json": {
       "model_id": "44c4db5016424853a59dac0312a83400",
       "version_major": 2,
       "version_minor": 0
      },
      "text/plain": [
       "interactive(children=(Dropdown(description='kernel', options=('diff', 'prewitt', 'sobel'), value='diff'), Floa…"
      ]
     },
     "metadata": {},
     "output_type": "display_data"
    }
   ],
   "source": [
    "kernels = {'diff': np.array([[ 0,0,0],\n",
    "                             [-1,0,1],\n",
    "                             [ 0,0,0]]) / 2,\n",
    "           'prewitt': np.array([[-1,0,1],\n",
    "                                [-1,0,1],\n",
    "                                [-1,0,1]]) / 6,\n",
    "           'sobel': np.array([[-1,0,1],\n",
    "                              [-2,0,2],\n",
    "                              [-1,0,1]]) / 8\n",
    "          }\n",
    "\n",
    "if len(im.shape) == 3:\n",
    "    im = rgb2gray(im)\n",
    "\n",
    "@interact(kernel=['diff', 'prewitt', 'sobel'], val_max=(0.1, 0.5, 0.1))\n",
    "def g(kernel='diff', val_max=0.1):\n",
    "    k = kernels[kernel]\n",
    "\n",
    "    imh = ndimage.convolve(im, k)\n",
    "    imv = ndimage.convolve(im, k.T)  # 転置\n",
    "    \n",
    "    fig = plt.figure(figsize=(10, 5))\n",
    "    ax = fig.add_subplot(1, 3, 1)\n",
    "    plt.imshow(imh, cmap=\"bwr\")\n",
    "    plt.colorbar()\n",
    "\n",
    "    ax = fig.add_subplot(1, 3, 2)\n",
    "    plt.imshow(imv, cmap=\"bwr\")\n",
    "    plt.colorbar()\n",
    "\n",
    "    ax = fig.add_subplot(1, 3, 3)\n",
    "    plt.imshow(np.sqrt(imv**2 + imh**2), cmap=\"gray\")\n",
    "    plt.colorbar()\n",
    "\n",
    "    plt.show()"
   ]
  },
  {
   "cell_type": "markdown",
   "metadata": {},
   "source": [
    "#### Hough"
   ]
  },
  {
   "cell_type": "code",
   "execution_count": 6,
   "metadata": {},
   "outputs": [
    {
     "data": {
      "text/plain": [
       "array([[ 0. ,  0. ,  0. ],\n",
       "       [-0.5,  0. ,  0.5],\n",
       "       [ 0. ,  0. ,  0. ]])"
      ]
     },
     "execution_count": 6,
     "metadata": {},
     "output_type": "execute_result"
    }
   ],
   "source": []
  },
  {
   "cell_type": "markdown",
   "metadata": {},
   "source": [
    "DoG"
   ]
  },
  {
   "cell_type": "code",
   "execution_count": 47,
   "metadata": {},
   "outputs": [
    {
     "data": {
      "application/vnd.jupyter.widget-view+json": {
       "model_id": "d3bea8c80e8b4fa4aec1733bb5e3699b",
       "version_major": 2,
       "version_minor": 0
      },
      "text/plain": [
       "interactive(children=(IntSlider(value=50, description='max_sigma', max=300, min=10, step=10), FloatSlider(valu…"
      ]
     },
     "metadata": {},
     "output_type": "display_data"
    }
   ],
   "source": [
    "@interact(max_sigma=(10, 300, 10), threshold=(0.02, 1, 0.02))\n",
    "def g(max_sigma=50, threshold=0.2):\n",
    "\n",
    "    keypoints1 = blob_dog(im, max_sigma=max_sigma, threshold=threshold, overlap=1)\n",
    "\n",
    "    fig = plt.figure()\n",
    "    ax = fig.add_subplot()\n",
    "    plt.imshow(im)\n",
    "\n",
    "    for k in keypoints1:\n",
    "        # print(k)\n",
    "        y, x, s, _ = k\n",
    "        ax.add_patch(plt.Circle((x, y), s, edgecolor='r', facecolor='none', lw=1))\n",
    "\n",
    "    plt.title(f'# of keypoints {len(keypoints1)}')\n",
    "    plt.show()"
   ]
  },
  {
   "cell_type": "markdown",
   "metadata": {},
   "source": [
    "#### FAST"
   ]
  },
  {
   "cell_type": "code",
   "execution_count": 70,
   "metadata": {},
   "outputs": [
    {
     "data": {
      "application/vnd.jupyter.widget-view+json": {
       "model_id": "c32162e41b424fb4ab69cc634af32848",
       "version_major": 2,
       "version_minor": 0
      },
      "text/plain": [
       "interactive(children=(IntSlider(value=10, description='n', max=16, min=1), FloatSlider(value=0.4, description=…"
      ]
     },
     "metadata": {},
     "output_type": "display_data"
    }
   ],
   "source": [
    "@interact(n=(1, 16, 1), threshold=(0.1, 0.6, 0.05))\n",
    "def g(n=10, threshold=0.4):\n",
    "\n",
    "    keypoints1 = corner_peaks(corner_fast(gray, n=n, threshold=threshold))\n",
    "\n",
    "    fig = plt.figure(figsize=(10, 8))\n",
    "    ax = fig.add_subplot()\n",
    "    plt.imshow(im)\n",
    "    ax.scatter(keypoints1[:, 1], keypoints1[:, 0], color='r', marker='o', s=80, facecolors='none')\n",
    "\n",
    "    plt.title(f'# of keypoints {len(keypoints1)}')\n",
    "    plt.show()"
   ]
  },
  {
   "cell_type": "markdown",
   "metadata": {},
   "source": [
    "#### Harris"
   ]
  },
  {
   "cell_type": "code",
   "execution_count": 76,
   "metadata": {},
   "outputs": [
    {
     "data": {
      "application/vnd.jupyter.widget-view+json": {
       "model_id": "d967216665e8440397d7125c49487aec",
       "version_major": 2,
       "version_minor": 0
      },
      "text/plain": [
       "interactive(children=(FloatSlider(value=0.15, description='k', max=0.6, step=0.01), FloatSlider(value=3.0, des…"
      ]
     },
     "metadata": {},
     "output_type": "display_data"
    }
   ],
   "source": [
    "@interact(k=(0, 0.6, 0.01), sigma=(0.5, 5, 0.5))\n",
    "def g(k=0.15, sigma=3):\n",
    "\n",
    "    keypoints1 = corner_peaks(corner_harris(gray, k=k, sigma=sigma))\n",
    "\n",
    "    fig = plt.figure(figsize=(10, 8))\n",
    "    ax = fig.add_subplot()\n",
    "    plt.imshow(im)\n",
    "    ax.scatter(keypoints1[:, 1], keypoints1[:, 0], color='r', marker='o', s=80, facecolors='none')\n",
    "\n",
    "    plt.title(f'# of keypoints {len(keypoints1)}')\n",
    "    plt.show()"
   ]
  },
  {
   "cell_type": "code",
   "execution_count": null,
   "metadata": {},
   "outputs": [],
   "source": []
  }
 ],
 "metadata": {
  "kernelspec": {
   "display_name": "pythonProject",
   "language": "python",
   "name": "python3"
  },
  "language_info": {
   "codemirror_mode": {
    "name": "ipython",
    "version": 3
   },
   "file_extension": ".py",
   "mimetype": "text/x-python",
   "name": "python",
   "nbconvert_exporter": "python",
   "pygments_lexer": "ipython3",
   "version": "3.12.2"
  }
 },
 "nbformat": 4,
 "nbformat_minor": 2
}
